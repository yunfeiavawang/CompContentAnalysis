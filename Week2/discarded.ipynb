{
 "cells": [
  {
   "cell_type": "code",
   "execution_count": null,
   "metadata": {},
   "outputs": [],
   "source": [
    "# Text input\n",
    "text = '由猴面包树组员倡议，我们小组建立官方slack交流群啦！为了营造一个更友好安全的交流氛围，目前加入小组slack群by invitation only，进群方式详见后文。slack目前没有地区限制，有分channel、自定义emoji、智能bot等丰富的功能，slack新手可以看这个官方slack官方指南目前设置的channel包括：#general 主channel#random 日常闲聊划水，逃避工作虽可耻但却快乐！#social-sciences 社会科学姐妹聚集地#humanities 人文艺术姐妹聚集地#engineering 工程姐妹聚集地#natural-sciences 自然科学姐妹聚集地#business 商科姐妹聚集地#prospective-phd-students 2021fall phd申请姐妹交流群#professorship 青教/AP/教职专区如果其他channel需求，可私信我开通～进群后会默认加入#general和#random，想加入其他channel可以在左边栏点击Channels旁边的加号➕，然后点击browse channels就可以看到群里所有的public channels啦然后按需加入～进群申请方式：回复本贴后立刻截图(截图里应该会包括自己刚刚的回复和本帖标题)，将截图豆油发给@猴面包树或@华丽丽的乌卒卒@个个子，同时简单阐述一下进群理由。管理员审核通过后，将会给你发送入群邀请链接～(slack群友可以邀请自己认识的不使用豆瓣的姐妹们，但需在slack上私聊 @猴面包树或@华丽丽的乌卒卒@个个子 转达被邀请者的入组理由，方可成功邀请)'\n",
    "\n",
    "# Regular expression pattern\n",
    "# Matches text segments that start with zero or one punctuation mark and end with a punctuation mark\n",
    "pattern = r'(?:[。！!?.？])?([^。！!?.？]+)(?:[。！!?.？])'\n",
    "\n",
    "# Find all matches\n",
    "sentences = re.findall(pattern, text)\n",
    "\n",
    "sentences"
   ]
  },
  {
   "cell_type": "code",
   "execution_count": null,
   "metadata": {},
   "outputs": [],
   "source": [
    "# Generate POS tags for all words\n",
    "all_pos_pairs = nltk.pos_tag(all_words)\n",
    "\n",
    "# Create the ConditionalFreqDist\n",
    "dfcfdist_WordtoPOS = nltk.ConditionalFreqDist(all_word_pos_pairs)\n",
    "\n",
    "# Viewing the first 10 items\n",
    "list(dfcfdist_WordtoPOS.items())[:10]"
   ]
  },
  {
   "cell_type": "code",
   "execution_count": null,
   "metadata": {},
   "outputs": [],
   "source": [
    "def sentence_pos(t):\n",
    "    if t == None:\n",
    "        return None\n",
    "\n",
    "    sentences = re.findall(r'(?:[。！!?.？])?([^。！!?.？]+)(?:[。！!?.？])', text)\n",
    "    for sentence in sentences:\n",
    "        word, pos = pseg.cut"
   ]
  }
 ],
 "metadata": {
  "language_info": {
   "name": "python"
  },
  "orig_nbformat": 4
 },
 "nbformat": 4,
 "nbformat_minor": 2
}
